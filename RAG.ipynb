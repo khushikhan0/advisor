{
 "cells": [
  {
   "cell_type": "markdown",
   "id": "70119505-e1a1-4bb2-9f9d-61af46fe8db6",
   "metadata": {},
   "source": [
    "# Ingesting PDF"
   ]
  },
  {
   "cell_type": "code",
   "execution_count": 6,
   "id": "315fe177-4449-4b87-8322-68dbe12b956d",
   "metadata": {},
   "outputs": [],
   "source": [
    "from langchain_community.document_loaders import UnstructuredPDFLoader\n",
    "from langchain_community.document_loaders import OnlinePDFLoader"
   ]
  },
  {
   "cell_type": "code",
   "execution_count": 227,
   "id": "da7d3060-61f7-4d8a-8815-915802b853fd",
   "metadata": {},
   "outputs": [
    {
     "data": {
      "text/plain": [
       "'Northeastern University 2023-2024 Undergraduate Day Catalog\\n\\nComputer Science, BSCS\\n\\nThe Bachelor of Science in Computer Science focuses on the fundamentals of program design, software development, computer organization, systems and networks, theories of computation, principles of languages, and advanced algorithms and data.\\n\\nProgram Requirements Complete all courses listed below unless otherwise indicated. Also complete any corequisite labs, recitations, clinicals, or tools courses where speciﬁed and complete any additional courses needed beyond speciﬁc college and major requirements to satisfy graduation credit requirements.\\n\\nUniversitywide Requirements All undergraduate students are required to complete the Universitywide Requirements (p. 128).\\n\\nNUpath Requirements All undergraduate students are required to complete the NUpath Requirements (p. 111).\\n\\nComputer Science Requirements Code\\n\\nTitle\\n\\nComputer Science Overview\\n\\nCS 1200\\n\\nFirst Year Seminar\\n\\nCS 1210\\n\\nProfessional Development for Khoury Co-op\\n\\nComputer Science Fundamental Courses\\n\\nCS 1800 and CS 1802\\n\\nDiscrete Structures and Seminar for CS 1800\\n\\nCS 2500 and CS 2501\\n\\nFundamentals of Computer Science 1 and Lab for CS 2500\\n\\nCS 2510 and CS 2511\\n\\nFundamentals of Computer Science 2 and Lab for CS 2510\\n\\nCS 2810\\n\\nMathematics of Data Models\\n\\nComputer Science Required Courses\\n\\nCS 3000\\n\\nAlgorithms and Data\\n\\nCS 3500 and CS 3501\\n\\nObject-Oriented Design and Lab for CS 3500\\n\\nCS 3650\\n\\nComputer Systems\\n\\nCS 3800\\n\\nTheory of Computation\\n\\nCS 4500\\n\\nSoftware Development\\n\\nor CS 4530\\n\\nFundamentals of Software Engineering\\n\\nSecurity Required Course\\n\\nComplete one of the following:\\n\\nCY 2550\\n\\nFoundations of Cybersecurity\\n\\nCY 3740\\n\\nSystems Security\\n\\nCY 4740\\n\\nNetwork Security\\n\\nPresentation Requirement\\n\\nComplete one of the following:\\n\\nCOMM 1112\\n\\nPublic Speaking\\n\\nCOMM 1113\\n\\nBusiness and Professional Speaking\\n\\nCOMM 1210\\n\\nPersuasion and Rhetoric\\n\\nCOMM 1511\\n\\nCommunication and Storytelling\\n\\nTHTR 1125\\n\\nImprovisation\\n\\nTHTR 1130\\n\\nIntroduction to Acting\\n\\nTHTR 1180\\n\\nThe Dynamic On-Screen Presenter\\n\\nTHTR 2345\\n\\nActing for the Camera\\n\\nKhoury Elective Courses\\n\\nStudents should plan to take a NUpath capstone using designated courses in either a concentration, computer science electives, or as a general elective.\\n\\nWith adviser approval, directed study, research, project study, and appropriate graduate-level courses may also be taken as upper-division electives.\\n\\n695\\n\\nHours\\n\\n1\\n\\n1\\n\\n5\\n\\n5\\n\\n5\\n\\n4\\n\\n4\\n\\n5\\n\\n4\\n\\n4\\n\\n4\\n\\n4\\n\\n4\\n\\n696\\n\\nComputer Science, BSCS\\n\\nComplete 8 semester hours of CS, CY, DS, or IS classes that are not already required. Choose courses within the following ranges:\\n\\nCS 2500 or higher, except CS 5010\\n\\nCY 2000 or higher, except CY 4930\\n\\nDS 2500 or higher, except DS 4900\\n\\nIS 2000 or higher, except IS 4900\\n\\nComputer Science Concentrations Pick one of the following concentrations and complete four courses in that concentration. In all concentrations, up to one Research (CS 4991) course can be substituted with college approval. Any missing prerequisites or NUpath requirements must be taken using computer science or general electives. In particular, students must arrange to take a NUpath capstone using either a course in the concentration or a CS, CY, DS, or IS course taken as a computer science elective or as a general elective.\\n\\nArtiﬁcial Intelligence (p. 698)\\n\\nFoundations (p. 698)\\n\\nHuman-Centered Computing (p. 698)\\n\\nSoftware (p. 699)\\n\\nSystems (p. 699)\\n\\nSupporting Courses Code\\n\\nTitle\\n\\nMathematics Courses\\n\\nMATH 1341\\n\\nCalculus 1 for Science and Engineering\\n\\nMATH 1365\\n\\nIntroduction to Mathematical Reasoning\\n\\nComputing and Social Issues\\n\\nComplete one of the following:\\n\\nAFAM 2600\\n\\nIssues in Race, Science, and Technology\\n\\nCY 4170\\n\\nThe Law, Ethics, and Policy of Data and Digital Technologies\\n\\nCY 5240\\n\\nCyberlaw: Privacy, Ethics, and Digital Rights\\n\\nENGL 2150\\n\\nLiterature and Digital Diversity\\n\\nHIST 2220\\n\\nHistory of Technology\\n\\nINSH 2102\\n\\nBostonography: The City through Data, Texts, Maps, and Networks\\n\\nIS 1300\\n\\nKnowledge in a Digital World\\n\\nor PHIL 1300\\n\\nKnowledge in a Digital World\\n\\nPHIL 1145\\n\\nTechnology and Human Values\\n\\nSOCL 1280\\n\\nThe Twenty-First-Century Workplace\\n\\nSOCL 2485\\n\\nEnvironment, Technology, and Society\\n\\nSOCL 4528\\n\\nComputers and Society\\n\\nElectrical Engineering\\n\\nEECE 2322 and EECE 2323\\n\\nFundamentals of Digital Design and Computer Organization and Lab for EECE 2322\\n\\nScience Requirement\\n\\nComplete two courses (and any required labs) from the following science categories:\\n\\nBiology\\n\\nBIOL 1111 and BIOL 1112\\n\\nGeneral Biology 1 and Lab for BIOL 1111\\n\\nBIOL 1113 and BIOL 1114\\n\\nGeneral Biology 2 and Lab for BIOL 1113\\n\\nBIOL 2301 and BIOL 2302\\n\\nGenetics and Molecular Biology and Lab for BIOL 2301\\n\\nChemistry\\n\\nCHEM 1161 and CHEM 1162\\n\\nGeneral Chemistry for Science Majors and Lab for CHEM 1161\\n\\nCHEM 1211 and CHEM 1212 and CHEM 1213\\n\\nGeneral Chemistry 1 and Lab for CHEM 1211 and Recitation for CHEM 1211\\n\\n8\\n\\nHours\\n\\n4\\n\\n4\\n\\n4\\n\\n5\\n\\n8\\n\\nNortheastern University 2023-2024 Undergraduate Day Catalog\\n\\nCHEM 1214 and CHEM 1215 and CHEM 1216\\n\\nGeneral Chemistry 2 and Lab for CHEM 1214 and Recitation for CHEM 1214\\n\\nGeology/Environmental Science\\n\\nENVR 1200 and ENVR 1201\\n\\nDynamic Earth and Lab for ENVR 1200\\n\\nENVR 1202 and ENVR 1203\\n\\nHistory of Earth and Life and Interpreting Earth History\\n\\nENVR 2310 and ENVR 2311\\n\\nEarth Materials and Lab for ENVR 2310\\n\\nENVR 2340 and ENVR 2341\\n\\nEarth Landforms and Processes and Lab for ENVR 2340\\n\\nENVR 3300 and ENVR 3301\\n\\nGeographic Information Systems and Lab for ENVR 3300\\n\\nENVR 4500 and ENVR 4501\\n\\nApplied Hydrogeology and Lab for ENVR 4500\\n\\nENVR 5242 and ENVR 5243\\n\\nAncient Marine Life and Lab for ENVR 5242\\n\\nMathematics\\n\\nMATH 1342\\n\\nCalculus 2 for Science and Engineering\\n\\nMATH 2331\\n\\nLinear Algebra\\n\\nMATH 3081\\n\\nProbability and Statistics\\n\\nPhysics\\n\\nPHYS 1145 and PHYS 1146\\n\\nPhysics for Life Sciences 1 and Lab for PHYS 1145\\n\\nPHYS 1147 and PHYS 1148\\n\\nPhysics for Life Sciences 2 and Lab for PHYS 1147\\n\\nPHYS 1151 and PHYS 1152 and PHYS 1153\\n\\nPhysics for Engineering 1 and Lab for PHYS 1151 and Interactive Learning Seminar for PHYS 1151\\n\\nPHYS 1155 and PHYS 1156 and PHYS 1157\\n\\nPhysics for Engineering 2 and Lab for PHYS 1155 and Interactive Learning Seminar for PHYS 1155\\n\\nPHYS 1161 and PHYS 1162 and PHYS 1163\\n\\nPhysics 1 and Lab for PHYS 1161 and Recitation for PHYS 1161\\n\\nPHYS 1165 and PHYS 1166 and PHYS 1167\\n\\nPhysics 2 and Lab for PHYS 1165 and Recitation for PHYS 1165\\n\\nComputer Science Writing Requirement Code\\n\\nTitle\\n\\nCollege Writing\\n\\nENGW 1111\\n\\nFirst-Year Writing\\n\\nAdvanced Writing in the Disciplines\\n\\nENGW 3302\\n\\nAdvanced Writing in the Technical Professions\\n\\nor ENGW 3315\\n\\nInterdisciplinary Advanced Writing in the Disciplines\\n\\nRequired General Electives Code\\n\\nTitle\\n\\nComplete 28 semester hours of general electives.\\n\\nKhoury College GPA Requirement Minimum 2.000 GPA required in all CS, CY, DS, and IS courses\\n\\nComputer Science Credit Requirement Complete 72 semester hours in the major.\\n\\n697\\n\\nHours\\n\\n4\\n\\n4\\n\\nHours\\n\\n28\\n\\n698\\n\\nComputer Science, BSCS\\n\\nNUpath Requirements Satisﬁed\\n\\nEngaging with the Natural and Designed World\\n\\nConducting Formal and Quantitative Reasoning\\n\\nAnalyzing and Using Data\\n\\nWriting in the First Year\\n\\nAdvanced Writing in the Disciplines\\n\\nWriting-Intensive in the Major\\n\\nDemonstrating Thought and Action in a Capstone\\n\\nIntegrating Knowledge and Skills Through Experience is satisﬁed through co-op.\\n\\nProgram Requirement 134 total semester hours required\\n\\nCONCENTRATION IN ARTIFICIAL INTELLIGENCE Code\\n\\nTitle\\n\\nCS 4100\\n\\nArtiﬁcial Intelligence\\n\\nDS 4400\\n\\nMachine Learning and Data Mining 1\\n\\nComplete two of the following not already taken:\\n\\nCS 4120\\n\\nNatural Language Processing\\n\\nCS 4150\\n\\nGame Artiﬁcial Intelligence\\n\\nCS 4610\\n\\nRobotic Science and Systems\\n\\nDS 4420\\n\\nMachine Learning and Data Mining 2\\n\\nIS 4200\\n\\nInformation Retrieval\\n\\nPSYC 3466\\n\\nCognition\\n\\nCONCENTRATION IN FOUNDATIONS Code\\n\\nTitle\\n\\nComplete two of the following:\\n\\nCS 2800\\n\\nLogic and Computation\\n\\nor CS 4820\\n\\nComputer-Aided Reasoning\\n\\nCS 4805\\n\\nFundamentals of Complexity Theory\\n\\nor CS 4810\\n\\nAdvanced Algorithms\\n\\nComplete two of the following not already taken:\\n\\nCS 3950 and CS 4950 and CS 4950\\n\\nIntroduction to Computer Science Research and Computer Science Research Seminar and Computer Science Research Seminar\\n\\nCS 4805\\n\\nFundamentals of Complexity Theory\\n\\nCS 4810\\n\\nAdvanced Algorithms\\n\\nCS 4820\\n\\nComputer-Aided Reasoning\\n\\nCS 4830\\n\\nSystem Speciﬁcation, Veriﬁcation, and Synthesis\\n\\nCY 4770\\n\\nCryptography\\n\\nCONCENTRATION IN HUMAN-CENTERED COMPUTING* Code\\n\\nTitle\\n\\nIS 4300\\n\\nHuman Computer Interaction\\n\\nIS 4800\\n\\nEmpirical Research Methods\\n\\nComplete two of the following not already taken:\\n\\nCS 4120\\n\\nNatural Language Processing\\n\\nCS 4520\\n\\nMobile Application Development\\n\\nCS 4550\\n\\nWeb Development\\n\\nDS 4200\\n\\nInformation Presentation and Visualization\\n\\nIS 2000\\n\\nPrinciples of Information Science\\n\\nThe concentration in human-centered computing requires a fall co-op pattern.\\n\\nHours\\n\\n4\\n\\n4\\n\\n8\\n\\nHours\\n\\n8-9\\n\\n8\\n\\nHours\\n\\n4\\n\\n4\\n\\n8\\n\\nNortheastern University 2023-2024 Undergraduate Day Catalog\\n\\nCONCENTRATION IN SOFTWARE Code\\n\\nTitle\\n\\nCS 2800\\n\\nLogic and Computation\\n\\nCS 4400\\n\\nProgramming Languages\\n\\nCS 4700\\n\\nNetwork Fundamentals\\n\\nor CS 4730\\n\\nDistributed Systems\\n\\nComplete one of the following not already taken:\\n\\nCS 3520\\n\\nProgramming in C++\\n\\nCS 4410\\n\\nCompilers\\n\\nCS 4550\\n\\nWeb Development\\n\\nCS 4700\\n\\nNetwork Fundamentals\\n\\nCS 4730\\n\\nDistributed Systems\\n\\nCS 4820\\n\\nComputer-Aided Reasoning\\n\\nCS 4830\\n\\nSystem Speciﬁcation, Veriﬁcation, and Synthesis\\n\\nCONCENTRATION IN SYSTEMS Code\\n\\nTitle\\n\\nCS 4700\\n\\nNetwork Fundamentals\\n\\nor CS 4730\\n\\nDistributed Systems\\n\\nComplete one of the following not already taken:\\n\\nCY 3740\\n\\nSystems Security\\n\\nCY 4740\\n\\nNetwork Security\\n\\nComplete two of the following not already taken:\\n\\nCS 3520\\n\\nProgramming in C++\\n\\nCS 4300\\n\\nComputer Graphics\\n\\nCS 4610\\n\\nRobotic Science and Systems\\n\\nCS 4700\\n\\nNetwork Fundamentals\\n\\nCS 4710\\n\\nMobile and Wireless Systems\\n\\nCS 4730\\n\\nDistributed Systems\\n\\nCY 3740\\n\\nSystems Security\\n\\nCY 4740\\n\\nNetwork Security\\n\\nCY 4760\\n\\nSecurity of Wireless and Mobile Systems\\n\\nPlan of Study Sample Plan of Study: Four Years, Two Co-ops in Spring/Summer 1\\n\\nYear 1\\n\\nFall\\n\\nHours\\n\\nSpring\\n\\nHours\\n\\nSummer 1\\n\\nHours\\n\\nSummer 2\\n\\nCS 1200\\n\\n1 CS 2510\\n\\n5 CS 3500\\n\\n5 MATH 1341\\n\\nand CS 2511\\n\\nand CS 3501\\n\\nCS 1800 and CS 1802\\n\\n5 CS 2810\\n\\n4 Elective\\n\\n4 Elective\\n\\nCS 2500 and CS 2501\\n\\n5 Science elective with lab\\n\\n4\\n\\nENGW 1111\\n\\n4 Elective\\n\\n4\\n\\nMATH 1365\\n\\n4\\n\\n19\\n\\n17\\n\\n9\\n\\nYear 2\\n\\nFall\\n\\nHours\\n\\nSpring\\n\\nHours\\n\\nSummer 1\\n\\nHours\\n\\nSummer 2\\n\\nCS 1210\\n\\n1 Co-op\\n\\nCo-op\\n\\nEECE 2322 and EECE 2323\\n\\nCS 3000\\n\\n4\\n\\nElective\\n\\nCS 3650\\n\\n4\\n\\nConcentration course\\n\\n4\\n\\nElective\\n\\n4\\n\\n17\\n\\n0\\n\\n0\\n\\nHours\\n\\nHours\\n\\n699\\n\\nHours\\n\\n4\\n\\n4\\n\\n4\\n\\nHours\\n\\n4\\n\\n4\\n\\n8\\n\\n4\\n\\n4\\n\\n8\\n\\n5\\n\\n4\\n\\n9\\n\\n700\\n\\nComputer Science, BSCS\\n\\nYear 3\\n\\nFall\\n\\nHours\\n\\nSpring\\n\\nHours\\n\\nCS 3800\\n\\n4 Co-op\\n\\nComputing and social issues\\n\\n4\\n\\nConcentration course\\n\\n4\\n\\nPresentation requirement\\n\\n4\\n\\n16\\n\\nYear 4\\n\\nFall\\n\\nHours\\n\\nSpring\\n\\nHours\\n\\nConcentration course\\n\\n4 CS 4530\\n\\nKhoury elective\\n\\n4 Concentration course\\n\\nSecurity course\\n\\n4 Khoury elective\\n\\nElective\\n\\n4 Science elective with lab\\n\\n16\\n\\nTotal Hours: 135\\n\\nSample Plan of Study: Four Years, Two Co-ops in Summer 2/Fall\\n\\nYear 1\\n\\nFall\\n\\nHours\\n\\nSpring\\n\\nHours\\n\\nCS 1200\\n\\n1 CS 2510\\n\\nand CS 2511\\n\\nCS 1800 and CS 1802\\n\\n5 CS 2810\\n\\nCS 2500 and CS 2501\\n\\n5 Science elective with lab\\n\\nENGW 1111\\n\\n4 Elective\\n\\nMATH 1365\\n\\n4\\n\\n19\\n\\nYear 2\\n\\nFall\\n\\nHours\\n\\nSpring\\n\\nHours\\n\\nCS 1210\\n\\n1 CS 3800\\n\\nCS 3500 and CS 3501\\n\\n5 Concentration course\\n\\nCS 3650\\n\\n4 Presentation requirement\\n\\nConcentration course\\n\\n4 Computing and social\\n\\nissues\\n\\nElective\\n\\n4\\n\\n18\\n\\nYear 3\\n\\nFall\\n\\nHours\\n\\nSpring\\n\\nHours\\n\\nCo-op\\n\\nConcentration course\\n\\nKhoury elective\\n\\nSecurity course\\n\\nElective\\n\\n0\\n\\nYear 4\\n\\nFall\\n\\nHours\\n\\nSpring\\n\\nHours\\n\\nCo-op\\n\\nCS 4530\\n\\nConcentration course\\n\\nKhoury elective\\n\\nSummer 1\\n\\nCo-op\\n\\n0\\n\\n4\\n\\n4\\n\\n4\\n\\n4\\n\\n16\\n\\nSummer 1\\n\\n5 CS 3000\\n\\n4 Elective\\n\\n4\\n\\n4\\n\\n17\\n\\nSummer 1\\n\\n4 EECE 2322\\n\\nand EECE 2323\\n\\n4 Elective\\n\\n4\\n\\n4\\n\\n16\\n\\nSummer 1\\n\\n4 ENGW 3302\\n\\n4 Elective\\n\\n4\\n\\n4\\n\\n16\\n\\n4\\n\\n4\\n\\n4\\n\\nHours\\n\\nHours\\n\\nHours\\n\\nHours\\n\\nSummer 2\\n\\nENGW 3302\\n\\nElective\\n\\n0\\n\\nSummer 2\\n\\n4 MATH 1341\\n\\n4 Elective\\n\\n8\\n\\nSummer 2\\n\\n5 Co-op\\n\\n4\\n\\n9\\n\\nSummer 2\\n\\n4 Co-op\\n\\n4\\n\\n8\\n\\nHours\\n\\nHours\\n\\nHours\\n\\nHours\\n\\n4\\n\\n4\\n\\n8\\n\\n4\\n\\n4\\n\\n8\\n\\n0\\n\\n0\\n\\nTotal Hours: 135\\n\\nScience elective with lab\\n\\n0\\n\\n4\\n\\n16\\n\\nNortheastern University 2023-2024 Undergraduate Day Catalog\\n\\n701'"
      ]
     },
     "execution_count": 227,
     "metadata": {},
     "output_type": "execute_result"
    }
   ],
   "source": [
    "local_path = \"Materials/CSCatalog.pdf\"\n",
    "\n",
    "# Local PDF file uploads\n",
    "if local_path:\n",
    "  loader = UnstructuredPDFLoader(file_path=local_path)\n",
    "  data = loader.load()\n",
    "else:\n",
    "  print(\"Upload a PDF file\")\n",
    "\n",
    "data[0].page_content"
   ]
  },
  {
   "cell_type": "markdown",
   "id": "2c1b056b-9eb0-4af8-8542-c66f73470eb8",
   "metadata": {},
   "source": [
    "# Vector Embedding"
   ]
  },
  {
   "cell_type": "code",
   "execution_count": 230,
   "id": "8e0882ed-4de7-4099-b995-cf21eca14027",
   "metadata": {},
   "outputs": [
    {
     "name": "stdout",
     "output_type": "stream",
     "text": [
      "\u001b[?25lpulling manifest ⠋ \u001b[?25h"
     ]
    },
    {
     "name": "stderr",
     "output_type": "stream",
     "text": [
      "huggingface/tokenizers: The current process just got forked, after parallelism has already been used. Disabling parallelism to avoid deadlocks...\n",
      "To disable this warning, you can either:\n",
      "\t- Avoid using `tokenizers` before the fork if possible\n",
      "\t- Explicitly set the environment variable TOKENIZERS_PARALLELISM=(true | false)\n"
     ]
    },
    {
     "name": "stdout",
     "output_type": "stream",
     "text": [
      "\u001b[?25l\u001b[2K\u001b[1Gpulling manifest ⠙ \u001b[?25h\u001b[?25l\u001b[2K\u001b[1Gpulling manifest ⠹ \u001b[?25h\u001b[?25l\u001b[2K\u001b[1Gpulling manifest ⠸ \u001b[?25h\u001b[?25l\u001b[2K\u001b[1Gpulling manifest ⠼ \u001b[?25h\u001b[?25l\u001b[2K\u001b[1Gpulling manifest ⠴ \u001b[?25h\u001b[?25l\u001b[2K\u001b[1Gpulling manifest \n",
      "pulling 970aa74c0a90... 100% ▕████████████████▏ 274 MB                         \n",
      "pulling c71d239df917... 100% ▕████████████████▏  11 KB                         \n",
      "pulling ce4a164fc046... 100% ▕████████████████▏   17 B                         \n",
      "pulling 31df23ea7daa... 100% ▕████████████████▏  420 B                         \n",
      "verifying sha256 digest \n",
      "writing manifest \n",
      "success \u001b[?25h\n",
      "NAME                       ID              SIZE      MODIFIED               \n",
      "nomic-embed-text:latest    0a109f422b47    274 MB    Less than a second ago    \n",
      "mistral:latest             f974a74358d6    4.1 GB    45 seconds ago            \n"
     ]
    },
    {
     "name": "stderr",
     "output_type": "stream",
     "text": [
      "huggingface/tokenizers: The current process just got forked, after parallelism has already been used. Disabling parallelism to avoid deadlocks...\n",
      "To disable this warning, you can either:\n",
      "\t- Avoid using `tokenizers` before the fork if possible\n",
      "\t- Explicitly set the environment variable TOKENIZERS_PARALLELISM=(true | false)\n"
     ]
    }
   ],
   "source": [
    "!ollama pull nomic-embed-text\n",
    "!ollama list\n",
    "from langchain_community.embeddings import OllamaEmbeddings\n",
    "from langchain_text_splitters import RecursiveCharacterTextSplitter\n",
    "from langchain_community.vectorstores import Chroma"
   ]
  },
  {
   "cell_type": "code",
   "execution_count": 232,
   "id": "053bf4a3-2d1b-41fb-8ba0-f87b49bf3589",
   "metadata": {},
   "outputs": [],
   "source": [
    "# Split and chunk \n",
    "text_splitter = RecursiveCharacterTextSplitter(chunk_size=7500, chunk_overlap=100)\n",
    "chunks = text_splitter.split_documents(data)"
   ]
  },
  {
   "cell_type": "code",
   "execution_count": null,
   "id": "a1224693-a75e-40ac-9a90-852c15457d8a",
   "metadata": {},
   "outputs": [],
   "source": []
  },
  {
   "cell_type": "code",
   "execution_count": 251,
   "id": "82f6ee4d-d819-433e-8a6f-9a8902d222f4",
   "metadata": {},
   "outputs": [
    {
     "name": "stderr",
     "output_type": "stream",
     "text": [
      "OllamaEmbeddings: 100%|███████████████████████████| 2/2 [00:00<00:00,  2.04it/s]\n"
     ]
    }
   ],
   "source": [
    "# Add to vector database\n",
    "persist_directory = \"./chroma_db\"\n",
    "vector_db = Chroma.from_documents(\n",
    "    documents=chunks, \n",
    "    embedding=OllamaEmbeddings(model=\"nomic-embed-text\",show_progress=True),\n",
    "    collection_name=\"local-rag\",\n",
    "    persist_directory=persist_directory\n",
    ")"
   ]
  },
  {
   "cell_type": "code",
   "execution_count": null,
   "id": "a91ecb6c-4618-4857-88ba-81284064f673",
   "metadata": {},
   "outputs": [],
   "source": []
  },
  {
   "cell_type": "markdown",
   "id": "52e33a24-c383-4692-a1c4-3b957aba8dc9",
   "metadata": {},
   "source": [
    "# Retrieval"
   ]
  },
  {
   "cell_type": "code",
   "execution_count": 255,
   "id": "52f4f783-a8c5-4fa9-87b7-7dd7da96c767",
   "metadata": {},
   "outputs": [],
   "source": [
    "\n",
    "from langchain.prompts import ChatPromptTemplate, PromptTemplate\n",
    "from langchain_core.output_parsers import StrOutputParser\n",
    "from langchain_community.chat_models import ChatOllama\n",
    "from langchain_core.runnables import RunnablePassthrough\n",
    "from langchain.retrievers.multi_query import MultiQueryRetriever"
   ]
  },
  {
   "cell_type": "code",
   "execution_count": 257,
   "id": "ccb2e037-f235-44f5-8cba-cd8b124164f9",
   "metadata": {},
   "outputs": [],
   "source": [
    "# LLM from Ollama\n",
    "local_model = \"mistral\"\n",
    "llm = ChatOllama(model=local_model)"
   ]
  },
  {
   "cell_type": "code",
   "execution_count": 259,
   "id": "7cbf5ed6-fc48-41b3-a4e6-478d0f4215c5",
   "metadata": {},
   "outputs": [],
   "source": [
    "QUERY_PROMPT = PromptTemplate(\n",
    "    input_variables=[\"question\"],\n",
    "    template=\"\"\"You are an AI language model assistant. Your task is to generate five\n",
    "    different versions of the given user question to retrieve relevant documents from\n",
    "    a vector database. By generating multiple perspectives on the user question, your\n",
    "    goal is to help the user overcome some of the limitations of the distance-based\n",
    "    similarity search. Provide these alternative questions separated by newlines.\n",
    "    Original question: {question}\"\"\",\n",
    ")"
   ]
  },
  {
   "cell_type": "code",
   "execution_count": 261,
   "id": "493d2df4-c40d-4c4e-a3ad-1bfa8fd8d08e",
   "metadata": {},
   "outputs": [],
   "source": [
    "retriever = MultiQueryRetriever.from_llm(\n",
    "    vector_db.as_retriever(), \n",
    "    llm,\n",
    "    prompt=QUERY_PROMPT\n",
    ")\n",
    "\n",
    "# RAG prompt\n",
    "template = \"\"\"Answer the question based ONLY on the following context:\n",
    "{context}\n",
    "Question: {question}\n",
    "\"\"\"\n",
    "\n",
    "prompt = ChatPromptTemplate.from_template(template)"
   ]
  },
  {
   "cell_type": "code",
   "execution_count": 263,
   "id": "8384083c-bd82-45a0-8ed4-3363bf18a8c7",
   "metadata": {},
   "outputs": [],
   "source": [
    "chain = (\n",
    "    {\"context\": retriever, \"question\": RunnablePassthrough()}\n",
    "    | prompt\n",
    "    | llm\n",
    "    | StrOutputParser()\n",
    ")"
   ]
  },
  {
   "cell_type": "code",
   "execution_count": 265,
   "id": "57a2ce37-c7d6-4dde-9935-eaaf8160a04d",
   "metadata": {},
   "outputs": [
    {
     "name": "stdin",
     "output_type": "stream",
     "text": [
      " what is this document about\n"
     ]
    },
    {
     "name": "stderr",
     "output_type": "stream",
     "text": [
      "OllamaEmbeddings: 100%|███████████████████████████| 1/1 [00:00<00:00, 15.85it/s]\n",
      "Number of requested results 4 is greater than number of elements in index 2, updating n_results = 2\n",
      "OllamaEmbeddings: 100%|███████████████████████████| 1/1 [00:00<00:00, 58.93it/s]\n",
      "Number of requested results 4 is greater than number of elements in index 2, updating n_results = 2\n",
      "OllamaEmbeddings: 100%|███████████████████████████| 1/1 [00:00<00:00, 37.44it/s]\n",
      "Number of requested results 4 is greater than number of elements in index 2, updating n_results = 2\n",
      "OllamaEmbeddings: 100%|███████████████████████████| 1/1 [00:00<00:00, 45.84it/s]\n",
      "Number of requested results 4 is greater than number of elements in index 2, updating n_results = 2\n",
      "OllamaEmbeddings: 100%|███████████████████████████| 1/1 [00:00<00:00, 52.29it/s]\n",
      "Number of requested results 4 is greater than number of elements in index 2, updating n_results = 2\n"
     ]
    },
    {
     "data": {
      "text/plain": [
       "' This document appears to be a list of courses, labs, and their corresponding titles for various subjects such as Earth Sciences (Environmental Science), Mathematics, Physics, Computer Science, and General Electives at a University. The document also indicates the requirements and concentrations available within the Computer Science major, specifically mentioning a Concentration in Artificial Intelligence (CS 4100). It seems to be a program or course catalog for an educational institution.'"
      ]
     },
     "execution_count": 265,
     "metadata": {},
     "output_type": "execute_result"
    }
   ],
   "source": [
    "chain.invoke(input(\"\"))"
   ]
  },
  {
   "cell_type": "code",
   "execution_count": null,
   "id": "56373c14-7f34-4684-9482-31fd08d04674",
   "metadata": {},
   "outputs": [],
   "source": []
  }
 ],
 "metadata": {
  "kernelspec": {
   "display_name": "Python (advisorenv)",
   "language": "python",
   "name": "advisorenv"
  },
  "language_info": {
   "codemirror_mode": {
    "name": "ipython",
    "version": 3
   },
   "file_extension": ".py",
   "mimetype": "text/x-python",
   "name": "python",
   "nbconvert_exporter": "python",
   "pygments_lexer": "ipython3",
   "version": "3.9.20"
  }
 },
 "nbformat": 4,
 "nbformat_minor": 5
}
